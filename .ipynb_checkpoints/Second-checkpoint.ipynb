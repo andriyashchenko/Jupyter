{
 "cells": [
  {
   "cell_type": "markdown",
   "id": "bb157704",
   "metadata": {},
   "source": [
    "   # Последовательность Фибоначчи"
   ]
  },
  {
   "cell_type": "code",
   "execution_count": 1,
   "id": "314307d9",
   "metadata": {},
   "outputs": [],
   "source": [
    "def fibonacci(sequence_length):\n",
    "    sequence = [0, 1]\n",
    "    if sequence_length < 1:\n",
    "        print('Последовательность Фибоначчи не может иметь длину, меньшую 1.')\n",
    "        return\n",
    "    if 0 < sequence_length <3:\n",
    "        return sequence[0:sequence_length]\n",
    "    for i in range(2, sequence_length):\n",
    "        sequence.append(sequence[i-1] + sequence[i-2])\n",
    "    return sequence"
   ]
  },
  {
   "cell_type": "code",
   "execution_count": 2,
   "id": "b1a6926a",
   "metadata": {},
   "outputs": [
    {
     "data": {
      "text/plain": [
       "[0, 1, 1, 2, 3, 5, 8, 13, 21, 34, 55, 89]"
      ]
     },
     "execution_count": 2,
     "metadata": {},
     "output_type": "execute_result"
    }
   ],
   "source": [
    "fibonacci(12)"
   ]
  },
  {
   "cell_type": "code",
   "execution_count": 3,
   "id": "e4f31139",
   "metadata": {},
   "outputs": [
    {
     "data": {
      "text/plain": [
       "[0, 1]"
      ]
     },
     "execution_count": 3,
     "metadata": {},
     "output_type": "execute_result"
    }
   ],
   "source": [
    "fibonacci(2)"
   ]
  },
  {
   "cell_type": "code",
   "execution_count": 4,
   "id": "f9de9ec3",
   "metadata": {},
   "outputs": [
    {
     "name": "stdout",
     "output_type": "stream",
     "text": [
      "Последовательность Фибоначчи не может иметь длину, меньшую 1.\n"
     ]
    }
   ],
   "source": [
    "fibonacci(0)"
   ]
  },
  {
   "cell_type": "markdown",
   "id": "963bfef0",
   "metadata": {},
   "source": [
    "   # Лес"
   ]
  },
  {
   "cell_type": "code",
   "execution_count": 5,
   "id": "85e98bed",
   "metadata": {},
   "outputs": [
    {
     "data": {
      "text/html": [
       "<div>\n",
       "<style scoped>\n",
       "    .dataframe tbody tr th:only-of-type {\n",
       "        vertical-align: middle;\n",
       "    }\n",
       "\n",
       "    .dataframe tbody tr th {\n",
       "        vertical-align: top;\n",
       "    }\n",
       "\n",
       "    .dataframe thead th {\n",
       "        text-align: right;\n",
       "    }\n",
       "</style>\n",
       "<table border=\"1\" class=\"dataframe\">\n",
       "  <thead>\n",
       "    <tr style=\"text-align: right;\">\n",
       "      <th></th>\n",
       "      <th>tree</th>\n",
       "      <th>size</th>\n",
       "      <th>price</th>\n",
       "      <th>x</th>\n",
       "      <th>y</th>\n",
       "    </tr>\n",
       "  </thead>\n",
       "  <tbody>\n",
       "    <tr>\n",
       "      <th>0</th>\n",
       "      <td>oak</td>\n",
       "      <td>height</td>\n",
       "      <td>352</td>\n",
       "      <td>3.95</td>\n",
       "      <td>3.98</td>\n",
       "    </tr>\n",
       "    <tr>\n",
       "      <th>1</th>\n",
       "      <td>pine</td>\n",
       "      <td>height</td>\n",
       "      <td>352</td>\n",
       "      <td>3.89</td>\n",
       "      <td>3.84</td>\n",
       "    </tr>\n",
       "    <tr>\n",
       "      <th>2</th>\n",
       "      <td>birch</td>\n",
       "      <td>middle</td>\n",
       "      <td>337</td>\n",
       "      <td>4.05</td>\n",
       "      <td>4.07</td>\n",
       "    </tr>\n",
       "    <tr>\n",
       "      <th>3</th>\n",
       "      <td>ash</td>\n",
       "      <td>middle</td>\n",
       "      <td>334</td>\n",
       "      <td>4.20</td>\n",
       "      <td>4.23</td>\n",
       "    </tr>\n",
       "    <tr>\n",
       "      <th>4</th>\n",
       "      <td>fir</td>\n",
       "      <td>height</td>\n",
       "      <td>345</td>\n",
       "      <td>4.34</td>\n",
       "      <td>4.35</td>\n",
       "    </tr>\n",
       "  </tbody>\n",
       "</table>\n",
       "</div>"
      ],
      "text/plain": [
       "    tree    size  price     x     y\n",
       "0    oak  height    352  3.95  3.98\n",
       "1   pine  height    352  3.89  3.84\n",
       "2  birch  middle    337  4.05  4.07\n",
       "3    ash  middle    334  4.20  4.23\n",
       "4    fir  height    345  4.34  4.35"
      ]
     },
     "execution_count": 5,
     "metadata": {},
     "output_type": "execute_result"
    }
   ],
   "source": [
    "import pandas as pd\n",
    "import numpy as np\n",
    "import matplotlib.pyplot as plt\n",
    "\n",
    "data = pd.read_csv(\"P1_forest.csv\", header = 0)\n",
    "data.head()"
   ]
  },
  {
   "cell_type": "markdown",
   "id": "cae63275",
   "metadata": {},
   "source": [
    "# Графики"
   ]
  },
  {
   "cell_type": "code",
   "execution_count": 6,
   "id": "a5969bfb",
   "metadata": {},
   "outputs": [
    {
     "data": {
      "image/png": "[encoded data removed]",
      "text/plain": [
       "<Figure size 432x288 with 1 Axes>"
      ]
     },
     "metadata": {
      "needs_background": "light"
     },
     "output_type": "display_data"
    }
   ],
   "source": [
    "plt.hist(data[\"price\"], bins = 20)\n",
    "\n",
    "# Добавление заголовка\n",
    "plt.title('Частотный график: Цены на древесину\\n', fontdict = {'fontsize': 20, 'fontweight': 20, 'color': 'Green'})\n",
    "\n",
    "plt.xlabel('Цена', fontdict = {'fontsize': 12, 'fontweight': 20, 'color': 'Brown'} )\n",
    "plt.ylabel('Количество', fontdict = {'fontsize': 12, 'fontweight': 20, 'color': 'Brown'})\n",
    "\n",
    "plt.show()"
   ]
  },
  {
   "cell_type": "code",
   "execution_count": 7,
   "id": "06f02559",
   "metadata": {},
   "outputs": [
    {
     "data": {
      "image/png": "[encoded data removed]",
      "text/plain": [
       "<Figure size 432x288 with 1 Axes>"
      ]
     },
     "metadata": {
      "needs_background": "light"
     },
     "output_type": "display_data"
    }
   ],
   "source": [
    "groupdata = data.groupby('size').count()\n",
    "groupdata\n",
    "\n",
    "x_vals = []\n",
    "y_vals = []\n",
    "for i in [0, 1, 2]:\n",
    "    x_vals.append(groupdata.index[i])\n",
    "    y_vals.append(groupdata.iloc[i,0])\n",
    "    \n",
    "plt.bar(x_vals, y_vals)\n",
    "\n",
    "plt.title('Частотный график: Величина деревьев\\n', fontdict = {'fontsize': 20, 'fontweight': 20, 'color': 'Green'})\n",
    "\n",
    "plt.xlabel('Размер', fontdict = {'fontsize': 12, 'fontweight': 20, 'color': 'Brown'} )\n",
    "plt.ylabel('Количество', fontdict = {'fontsize': 12, 'fontweight': 20, 'color': 'Brown'})\n",
    "\n",
    "plt.show()"
   ]
  }
 ],
 "metadata": {
  "kernelspec": {
   "display_name": "Python 3 (ipykernel)",
   "language": "python",
   "name": "python3"
  },
  "language_info": {
   "codemirror_mode": {
    "name": "ipython",
    "version": 3
   },
   "file_extension": ".py",
   "mimetype": "text/x-python",
   "name": "python",
   "nbconvert_exporter": "python",
   "pygments_lexer": "ipython3",
   "version": "3.9.13"
  }
 },
 "nbformat": 4,
 "nbformat_minor": 5
}
