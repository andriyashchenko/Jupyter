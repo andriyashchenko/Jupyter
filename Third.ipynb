{
  "cells": [
    {
      "cell_type": "markdown",
      "metadata": {
        "id": "view-in-github",
        "colab_type": "text"
      },
      "source": [
        "<a href=\"https://colab.research.google.com/github/andriyashchenko/Jupyter/blob/develop/Third.ipynb\" target=\"_parent\"><img src=\"https://colab.research.google.com/assets/colab-badge.svg\" alt=\"Open In Colab\"/></a>"
      ]
    },
    {
      "cell_type": "markdown",
      "metadata": {
        "id": "nUsfJYfG1XKG"
      },
      "source": [
        "# Третий файл"
      ]
    },
    {
      "cell_type": "code",
      "execution_count": null,
      "metadata": {
        "colab": {
          "base_uri": "https://localhost:8080/"
        },
        "id": "ihYlxXMY0WfT",
        "outputId": "86b69365-ad2e-4ff2-ad7e-80377d0352d5"
      },
      "outputs": [
        {
          "output_type": "stream",
          "name": "stdout",
          "text": [
            "Hello World!\n"
          ]
        }
      ],
      "source": [
        "print('Hello World!')"
      ]
    },
    {
      "cell_type": "markdown",
      "source": [
        "$\\sqrt{3x-1}+(1-x)^2$"
      ],
      "metadata": {
        "id": "xmrx3momOa2E"
      }
    },
    {
      "cell_type": "code",
      "source": [
        "myoutput = \"step till_10 till_12 till_14 till_16 till_18 till_20 till_22\\r\\n0    254348  235478  210569  299341  356450  448679  587123\\r\\n1    254652  236400  239500  299124  356401  448520  587100\\r\\n2    254124  236421  239821  299213  356211  449718  587330\\r\\n3    253442  236220  239700  299345  356325  449303  587624\\r\\n4    263590  236375  239900  299490  356504  449254  587493\\r\\n5    263848  236778  239468  299625  356634  449392  587456\\r\\n6    263593  236115  239311  299666  356111  449666  587444\"\n",
        "print(myoutput)"
      ],
      "metadata": {
        "colab": {
          "base_uri": "https://localhost:8080/"
        },
        "id": "d4DXShFtpf_V",
        "outputId": "d709c19f-2044-4916-bbe8-3a1dba2f26cb"
      },
      "execution_count": null,
      "outputs": [
        {
          "output_type": "stream",
          "name": "stdout",
          "text": [
            "step till_10 till_12 till_14 till_16 till_18 till_20 till_22\r\n",
            "0    254348  235478  210569  299341  356450  448679  587123\r\n",
            "1    254652  236400  239500  299124  356401  448520  587100\r\n",
            "2    254124  236421  239821  299213  356211  449718  587330\r\n",
            "3    253442  236220  239700  299345  356325  449303  587624\r\n",
            "4    263590  236375  239900  299490  356504  449254  587493\r\n",
            "5    263848  236778  239468  299625  356634  449392  587456\r\n",
            "6    263593  236115  239311  299666  356111  449666  587444\n"
          ]
        }
      ]
    },
    {
      "cell_type": "code",
      "source": [
        "lines = myoutput.splitlines()\n",
        "lines"
      ],
      "metadata": {
        "colab": {
          "base_uri": "https://localhost:8080/"
        },
        "id": "i5zfwF6hptaO",
        "outputId": "4836bb57-51d3-4601-cfcf-9fb79b93da53"
      },
      "execution_count": null,
      "outputs": [
        {
          "output_type": "execute_result",
          "data": {
            "text/plain": [
              "['step till_10 till_12 till_14 till_16 till_18 till_20 till_22',\n",
              " '0    254348  235478  210569  299341  356450  448679  587123',\n",
              " '1    254652  236400  239500  299124  356401  448520  587100',\n",
              " '2    254124  236421  239821  299213  356211  449718  587330',\n",
              " '3    253442  236220  239700  299345  356325  449303  587624',\n",
              " '4    263590  236375  239900  299490  356504  449254  587493',\n",
              " '5    263848  236778  239468  299625  356634  449392  587456',\n",
              " '6    263593  236115  239311  299666  356111  449666  587444']"
            ]
          },
          "metadata": {},
          "execution_count": 82
        }
      ]
    },
    {
      "cell_type": "code",
      "source": [
        "lines[1].split()"
      ],
      "metadata": {
        "colab": {
          "base_uri": "https://localhost:8080/"
        },
        "id": "icvFmvy-JbwV",
        "outputId": "7bb75a93-16c4-4248-ad8b-b1d5763d5e97"
      },
      "execution_count": null,
      "outputs": [
        {
          "output_type": "execute_result",
          "data": {
            "text/plain": [
              "['0', '254348', '235478', '210569', '299341', '356450', '448679', '587123']"
            ]
          },
          "metadata": {},
          "execution_count": 88
        }
      ]
    },
    {
      "cell_type": "code",
      "source": [
        "for line in lines[1:]:\n",
        "    # do something with each line\n",
        "    words = line.split()\n",
        "    till_10 = words[1]\n",
        "    till_12 = words[3]\n",
        "    till_14 = words[5]\n",
        "    print(till_10, till_12, till_14)"
      ],
      "metadata": {
        "colab": {
          "base_uri": "https://localhost:8080/"
        },
        "id": "X0eNfrSgO0vg",
        "outputId": "b9c5fd75-af0d-4b0b-9ec7-c46fd46c2e75"
      },
      "execution_count": null,
      "outputs": [
        {
          "output_type": "stream",
          "name": "stdout",
          "text": [
            "254348 210569 356450\n",
            "254652 239500 356401\n",
            "254124 239821 356211\n",
            "253442 239700 356325\n",
            "263590 239900 356504\n",
            "263848 239468 356634\n",
            "263593 239311 356111\n"
          ]
        }
      ]
    },
    {
      "cell_type": "code",
      "source": [
        "import numpy as np\n",
        "data= []\n",
        "\n",
        "for line in lines[1:]:\n",
        "    # do something with each line\n",
        "    words = line.split()\n",
        "    till_10 = int(words[1])\n",
        "    till_12 = int(words[3])\n",
        "    till_14 = int(words[5])\n",
        "    data.append((till_10,till_12,till_14))\n",
        "data = np.array(data)"
      ],
      "metadata": {
        "id": "DjX8dro-Q50g"
      },
      "execution_count": null,
      "outputs": []
    },
    {
      "cell_type": "code",
      "source": [
        "import matplotlib.pyplot as plt\n",
        "\n",
        "plt.plot(data[:,0])\n",
        "plt.xlabel('step')\n",
        "plt.ylabel('till_10')\n",
        "plt.title('Timetable of the movement of people in the subway')\n"
      ],
      "metadata": {
        "colab": {
          "base_uri": "https://localhost:8080/",
          "height": 312
        },
        "id": "EfU3SH6jT27-",
        "outputId": "cfe28acc-6c03-43f9-c12e-1f9a83dbd615"
      },
      "execution_count": null,
      "outputs": [
        {
          "output_type": "execute_result",
          "data": {
            "text/plain": [
              "Text(0.5, 1.0, 'Timetable of the movement of people in the subway')"
            ]
          },
          "metadata": {},
          "execution_count": 92
        },
        {
          "output_type": "display_data",
          "data": {
            "text/plain": [
              "<Figure size 432x288 with 1 Axes>"
            ],
            "image/png": "[encoded data removed]"
          },
          "metadata": {
            "needs_background": "light"
          }
        }
      ]
    }
  ],
  "metadata": {
    "colab": {
      "collapsed_sections": [],
      "name": " Third.ipynb",
      "provenance": [],
      "include_colab_link": true
    },
    "kernelspec": {
      "display_name": "Python 3 (ipykernel)",
      "language": "python",
      "name": "python3"
    },
    "language_info": {
      "codemirror_mode": {
        "name": "ipython",
        "version": 3
      },
      "file_extension": ".py",
      "mimetype": "text/x-python",
      "name": "python",
      "nbconvert_exporter": "python",
      "pygments_lexer": "ipython3",
      "version": "3.9.13"
    }
  },
  "nbformat": 4,
  "nbformat_minor": 0
}