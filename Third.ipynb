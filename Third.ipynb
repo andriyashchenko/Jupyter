{
 "cells": [
  {
   "cell_type": "markdown",
   "metadata": {
    "colab_type": "text",
    "id": "view-in-github"
   },
   "source": [
    "<a href=\"https://colab.research.google.com/github/andriyashchenko/Jupyter/blob/develop/Third.ipynb\" target=\"_parent\"><img src=\"https://colab.research.google.com/assets/colab-badge.svg\" alt=\"Open In Colab\"/></a>"
   ]
  },
  {
   "cell_type": "markdown",
   "metadata": {
    "id": "nUsfJYfG1XKG"
   },
   "source": [
    "# Третий файл"
   ]
  },
  {
   "cell_type": "code",
   "execution_count": 1,
   "metadata": {
    "colab": {
     "base_uri": "https://localhost:8080/"
    },
    "id": "ihYlxXMY0WfT",
    "outputId": "30665639-b59c-47f3-fc96-6b6f5a21c280"
   },
   "outputs": [
    {
     "name": "stdout",
     "output_type": "stream",
     "text": [
      "Hello World!\n"
     ]
    }
   ],
   "source": [
    "print('Hello World!')"
   ]
  },
  {
   "cell_type": "code",
   "execution_count": 5,
   "metadata": {},
   "outputs": [
    {
     "data": {
      "text/html": [
       "<div>\n",
       "<style scoped>\n",
       "    .dataframe tbody tr th:only-of-type {\n",
       "        vertical-align: middle;\n",
       "    }\n",
       "\n",
       "    .dataframe tbody tr th {\n",
       "        vertical-align: top;\n",
       "    }\n",
       "\n",
       "    .dataframe thead th {\n",
       "        text-align: right;\n",
       "    }\n",
       "</style>\n",
       "<table border=\"1\" class=\"dataframe\">\n",
       "  <thead>\n",
       "    <tr style=\"text-align: right;\">\n",
       "      <th></th>\n",
       "      <th>'step'</th>\n",
       "      <th>'till_10'</th>\n",
       "      <th>'til_12'</th>\n",
       "      <th>'till_14'</th>\n",
       "      <th>'till_16'</th>\n",
       "      <th>'till_18'</th>\n",
       "      <th>'till_20</th>\n",
       "      <th>till_22'</th>\n",
       "    </tr>\n",
       "  </thead>\n",
       "  <tbody>\n",
       "    <tr>\n",
       "      <th>0</th>\n",
       "      <td>0</td>\n",
       "      <td>254348</td>\n",
       "      <td>235478</td>\n",
       "      <td>210569</td>\n",
       "      <td>299341</td>\n",
       "      <td>356450</td>\n",
       "      <td>448679</td>\n",
       "      <td>587123</td>\n",
       "    </tr>\n",
       "    <tr>\n",
       "      <th>1</th>\n",
       "      <td>1</td>\n",
       "      <td>254652</td>\n",
       "      <td>236400</td>\n",
       "      <td>239500</td>\n",
       "      <td>299124</td>\n",
       "      <td>356401</td>\n",
       "      <td>448520</td>\n",
       "      <td>587100</td>\n",
       "    </tr>\n",
       "    <tr>\n",
       "      <th>2</th>\n",
       "      <td>2</td>\n",
       "      <td>254124</td>\n",
       "      <td>236421</td>\n",
       "      <td>239821</td>\n",
       "      <td>299213</td>\n",
       "      <td>356211</td>\n",
       "      <td>449718</td>\n",
       "      <td>587330</td>\n",
       "    </tr>\n",
       "    <tr>\n",
       "      <th>3</th>\n",
       "      <td>3</td>\n",
       "      <td>253442</td>\n",
       "      <td>236220</td>\n",
       "      <td>239700</td>\n",
       "      <td>299345</td>\n",
       "      <td>356325</td>\n",
       "      <td>449303</td>\n",
       "      <td>587624</td>\n",
       "    </tr>\n",
       "    <tr>\n",
       "      <th>4</th>\n",
       "      <td>4</td>\n",
       "      <td>263590</td>\n",
       "      <td>236375</td>\n",
       "      <td>239900</td>\n",
       "      <td>299490</td>\n",
       "      <td>356504</td>\n",
       "      <td>449254</td>\n",
       "      <td>587493</td>\n",
       "    </tr>\n",
       "    <tr>\n",
       "      <th>5</th>\n",
       "      <td>5</td>\n",
       "      <td>263848</td>\n",
       "      <td>236778</td>\n",
       "      <td>239468</td>\n",
       "      <td>299625</td>\n",
       "      <td>356634</td>\n",
       "      <td>449392</td>\n",
       "      <td>587456</td>\n",
       "    </tr>\n",
       "    <tr>\n",
       "      <th>6</th>\n",
       "      <td>6</td>\n",
       "      <td>263593</td>\n",
       "      <td>236115</td>\n",
       "      <td>239311</td>\n",
       "      <td>299666</td>\n",
       "      <td>356111</td>\n",
       "      <td>449666</td>\n",
       "      <td>587444</td>\n",
       "    </tr>\n",
       "  </tbody>\n",
       "</table>\n",
       "</div>"
      ],
      "text/plain": [
       "   'step'  'till_10'  'til_12'  'till_14'  'till_16'  'till_18'  'till_20  \\\n",
       "0       0     254348    235478     210569     299341     356450    448679   \n",
       "1       1     254652    236400     239500     299124     356401    448520   \n",
       "2       2     254124    236421     239821     299213     356211    449718   \n",
       "3       3     253442    236220     239700     299345     356325    449303   \n",
       "4       4     263590    236375     239900     299490     356504    449254   \n",
       "5       5     263848    236778     239468     299625     356634    449392   \n",
       "6       6     263593    236115     239311     299666     356111    449666   \n",
       "\n",
       "   till_22'  \n",
       "0    587123  \n",
       "1    587100  \n",
       "2    587330  \n",
       "3    587624  \n",
       "4    587493  \n",
       "5    587456  \n",
       "6    587444  "
      ]
     },
     "execution_count": 5,
     "metadata": {},
     "output_type": "execute_result"
    }
   ],
   "source": [
    "import pandas as pd\n",
    "\n",
    "data = pd.read_csv(\"P1_metro.csv\", header = 0)\n",
    "data.head(8)"
   ]
  },
  {
   "cell_type": "code",
   "execution_count": null,
   "metadata": {},
   "outputs": [],
   "source": []
  }
 ],
 "metadata": {
  "colab": {
   "authorship_tag": "ABX9TyPI2wC2/MWSHJStiZ4A4T/9",
   "collapsed_sections": [],
   "include_colab_link": true,
   "name": "Third.ipynb",
   "provenance": []
  },
  "kernelspec": {
   "display_name": "Python 3 (ipykernel)",
   "language": "python",
   "name": "python3"
  },
  "language_info": {
   "codemirror_mode": {
    "name": "ipython",
    "version": 3
   },
   "file_extension": ".py",
   "mimetype": "text/x-python",
   "name": "python",
   "nbconvert_exporter": "python",
   "pygments_lexer": "ipython3",
   "version": "3.9.13"
  }
 },
 "nbformat": 4,
 "nbformat_minor": 1
}
